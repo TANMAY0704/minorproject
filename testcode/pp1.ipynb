{
 "cells": [
  {
   "cell_type": "markdown",
   "metadata": {},
   "source": [
    "TEST 1"
   ]
  },
  {
   "cell_type": "code",
   "execution_count": 1,
   "metadata": {},
   "outputs": [],
   "source": [
    "import pandas as pd\n",
    "import numpy as np\n"
   ]
  },
  {
   "cell_type": "code",
   "execution_count": 2,
   "metadata": {},
   "outputs": [
    {
     "name": "stdout",
     "output_type": "stream",
     "text": [
      "   X2           X3    X4                   X5                X6        X7  \\\n",
      "0  20  Bhubaneswar  Male  Bachelor's 3rd Year  Computer Science  Everyday   \n",
      "1  69       Liquid  Male  Bachelor's 3rd Year  Computer Science  Everyday   \n",
      "\n",
      "         X8           X9       X10       X11        X12       X13       X14  \\\n",
      "0     Often  Weight gain     Often  Everyday   Everyday  Everyday    Rarely   \n",
      "1  Everyday    No change  Everyday  Everyday  Sometimes  Everyday  Everyday   \n",
      "\n",
      "         X15      X16  X17  X18  \n",
      "0  No change  Nothing  Yes   No  \n",
      "1  No change     nope  Yes  Yes  \n"
     ]
    }
   ],
   "source": [
    "data = pd.read_csv('Student Mental Wellness Survey (Responses) - Form responses 1.csv')\n",
    "data.columns = [f'X{i}' for i in range(1, len(data.columns) + 1)]\n",
    "data = data.iloc[:, 1:]\n",
    "print(data.head())"
   ]
  },
  {
   "cell_type": "markdown",
   "metadata": {},
   "source": [
    "These columns only take 2-5 values hence one hot encoding is done"
   ]
  },
  {
   "cell_type": "code",
   "execution_count": 3,
   "metadata": {},
   "outputs": [
    {
     "name": "stdout",
     "output_type": "stream",
     "text": [
      "   X2           X3                   X5                X6      X16  X17  X18  \\\n",
      "0  20  Bhubaneswar  Bachelor's 3rd Year  Computer Science  Nothing  Yes   No   \n",
      "1  69       Liquid  Bachelor's 3rd Year  Computer Science     nope  Yes  Yes   \n",
      "\n",
      "   X4_Male  X7_Everyday  X8_Everyday  ...  X9_Weight gain  X10_Everyday  \\\n",
      "0     True         True        False  ...            True         False   \n",
      "1     True         True         True  ...           False          True   \n",
      "\n",
      "   X10_Often  X11_Everyday  X12_Everyday  X12_Sometimes  X13_Everyday  \\\n",
      "0       True          True          True          False          True   \n",
      "1      False          True         False           True          True   \n",
      "\n",
      "   X14_Everyday  X14_Rarely  X15_No change  \n",
      "0         False        True           True  \n",
      "1          True       False           True  \n",
      "\n",
      "[2 rows x 22 columns]\n"
     ]
    }
   ],
   "source": [
    "columns_to_encode = ['X4','X7', 'X8', 'X9', 'X10', 'X11', 'X12', 'X13', 'X14', 'X15']\n",
    "data= pd.get_dummies(data, columns=columns_to_encode)\n",
    "print(data.head())"
   ]
  },
  {
   "cell_type": "markdown",
   "metadata": {},
   "source": [
    "These columns can take more than one value so only the top 100 are taken"
   ]
  },
  {
   "cell_type": "code",
   "execution_count": 4,
   "metadata": {},
   "outputs": [
    {
     "name": "stdout",
     "output_type": "stream",
     "text": [
      "   X2      X16  X17  X18  X4_Male  X7_Everyday  X8_Everyday  X8_Often  \\\n",
      "0  20  Nothing  Yes   No     True         True        False      True   \n",
      "1  69     nope  Yes  Yes     True         True         True     False   \n",
      "\n",
      "   X9_No change  X9_Weight gain  ...  X12_Everyday  X12_Sometimes  \\\n",
      "0         False            True  ...          True          False   \n",
      "1          True           False  ...         False           True   \n",
      "\n",
      "   X13_Everyday  X14_Everyday  X14_Rarely  X15_No change  X3_Bhubaneswar  \\\n",
      "0          True         False        True           True            True   \n",
      "1          True          True       False           True           False   \n",
      "\n",
      "   X3_Liquid  X5_Bachelor's 3rd Year  X6_Computer Science  \n",
      "0      False                    True                 True  \n",
      "1       True                    True                 True  \n",
      "\n",
      "[2 rows x 23 columns]\n"
     ]
    }
   ],
   "source": [
    "top_categories = 10\n",
    "columns_to_encode = ['X3', 'X5', 'X6']\n",
    "encoded_columns = pd.DataFrame()\n",
    "for column in columns_to_encode:\n",
    "    top_categories_series = data[column].value_counts().nlargest(top_categories)\n",
    "    top_categories_list = top_categories_series.index.tolist()\n",
    "    \n",
    "    encoded = pd.get_dummies(data[column].apply(lambda x: x if x in top_categories_list else 'Other'), prefix=column)\n",
    "    encoded_columns = pd.concat([encoded_columns, encoded], axis=1)\n",
    "data_encoded = pd.concat([data.drop(columns=columns_to_encode), encoded_columns], axis=1)\n",
    "print(data_encoded.head())"
   ]
  },
  {
   "cell_type": "code",
   "execution_count": 5,
   "metadata": {},
   "outputs": [],
   "source": [
    "\n",
    "data_encoded.to_csv('encoded_data.csv', index=False)\n"
   ]
  }
 ],
 "metadata": {
  "kernelspec": {
   "display_name": "Python 3",
   "language": "python",
   "name": "python3"
  },
  "language_info": {
   "codemirror_mode": {
    "name": "ipython",
    "version": 3
   },
   "file_extension": ".py",
   "mimetype": "text/x-python",
   "name": "python",
   "nbconvert_exporter": "python",
   "pygments_lexer": "ipython3",
   "version": "3.10.5"
  }
 },
 "nbformat": 4,
 "nbformat_minor": 2
}
